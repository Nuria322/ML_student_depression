{
 "cells": [
  {
   "cell_type": "markdown",
   "id": "566cf118",
   "metadata": {},
   "source": [
    "## Datos desafio."
   ]
  },
  {
   "cell_type": "code",
   "execution_count": null,
   "id": "eed957e8",
   "metadata": {},
   "outputs": [],
   "source": []
  },
  {
   "cell_type": "code",
   "execution_count": null,
   "id": "3cc8f933",
   "metadata": {},
   "outputs": [],
   "source": []
  }
 ],
 "metadata": {
  "language_info": {
   "name": "python"
  }
 },
 "nbformat": 4,
 "nbformat_minor": 5
}
