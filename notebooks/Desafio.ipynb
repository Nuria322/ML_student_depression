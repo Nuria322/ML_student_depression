{
 "cells": [
  {
   "cell_type": "markdown",
   "id": "566cf118",
   "metadata": {},
   "source": [
    "## Web scraping Mochiadictos.com"
   ]
  },
  {
   "cell_type": "markdown",
   "id": "2cb11e86",
   "metadata": {},
   "source": [
    "#### Secciones de actividades por Comunidad Autónoma "
   ]
  },
  {
   "cell_type": "code",
   "execution_count": 4,
   "id": "3cc8f933",
   "metadata": {},
   "outputs": [
    {
     "data": {
      "text/plain": [
       "200"
      ]
     },
     "execution_count": 4,
     "metadata": {},
     "output_type": "execute_result"
    }
   ],
   "source": [
    "import requests\n",
    "\n",
    "sitio_web = \"https://www.mochiadictos.com/que-hacer-con-ninos-en-espana/\"\n",
    "\n",
    "# esto descarga toda la información del sitio web\n",
    "resp = requests.get(sitio_web)\n",
    "resp.status_code"
   ]
  },
  {
   "cell_type": "code",
   "execution_count": 5,
   "id": "230c5b0f",
   "metadata": {},
   "outputs": [
    {
     "data": {
      "text/plain": [
       "{'User-Agent': 'python-requests/2.32.3', 'Accept-Encoding': 'gzip, deflate', 'Accept': '*/*', 'Connection': 'keep-alive'}"
      ]
     },
     "execution_count": 5,
     "metadata": {},
     "output_type": "execute_result"
    }
   ],
   "source": [
    "resp.request.headers"
   ]
  },
  {
   "cell_type": "code",
   "execution_count": null,
   "id": "b6bf7147",
   "metadata": {},
   "outputs": [
    {
     "name": "stdout",
     "output_type": "stream",
     "text": [
      "\n",
      "1. Andalucía con niños.:\n",
      " - Descubrir los lugares más bonitosque ver en Frigiliana, el pueblo con más encanto de Málaga.\n",
      " - Seguir ampliando la lista de más 50planes que hacer en Málaga con niños, para nosotros una de las mejores ciudades de España para visitar con niños y para vivir.\n",
      " - Visitar las Cuevas de Nerjay disfrutar deNerja en familiaprobablemente, el pueblo con las mejores playas de Málaga.\n",
      " - Hacer elCaminito del Rey[con niños a partir de 8 años]\n",
      " - Conocer elAcebuchal, la aldea de Málaga que estuvo abandonada durante 50 años.\n",
      " - DescubrirAntequera,la lagunadeFuente de Piedra y sus flamencos rosas.\n",
      " - Disfrutar del ambiente y los cientos deplanes en Fuengirola para niños.\n",
      " - Visitar Rio Tinto en Huelva.\n",
      " - Disfrutar de las playas de Cadiz\n",
      " - Comer tapas en Granada y subir a ver la nieve en Sierra Nevada.\n",
      " - Hacer varias rutas por la Sierra de Cazorla.\n",
      "\n",
      "2. Aragón.:\n",
      " - Conocer Albarracín, el pueblo medieval más bonito de Aragón.\n",
      " - Visitar Teruel y retroceder 4.500 millones de años enDinópolis Teruel.\n",
      " - Visitar el interior de unaauténtica mina de carbón, a casi 200 metros en elMuseo minero de Escucha\n",
      " - Hacer trekkings porEl Valle de Tenay visitar el Parque faunístico deLacuniacha.\n",
      " - Conectar con la naturaleza en el Parque Nacional de Ordesa y Monte Perdido y alucinar con el color radioactivo del río Bellós en el Cañón de Añisclo.\n",
      "\n",
      "3. Asturias.:\n",
      " - Explorar lospicos de Europay comer fabada asturiana en alguna de sus aldeas de piedra.\n",
      " - Bañarnos en la piscina de agua salada en la que se convierte laplaya de Cué,en Llanes,cuando sube la marea.\n",
      " - Hacer un picnic en elMirador del Fitudisfrutando de las vistas de las montañas asturianas con el Mar Cantábrico de fondo.\n",
      "\n",
      "4. Baleares.:\n",
      " - ConocerIbiza en Autocaravana.\n",
      " - Tostarse al sol en algunas de lasmejores playas de Mallorca.\n",
      " - Viajar aMenorca con niñosy descubrir si es verdad eso que dicen queMenorcaes la isla más bonita de Baleares.\n",
      "\n",
      "5. Canarias.:\n",
      " - Conocer elParque Nacional del Teide, Tenerife\n",
      " - Alucinar con la majestuosidad del Parque rural de Anaga.\n",
      "\n",
      "6. Cantabria.:\n",
      " - Pasar unos días en Santillana del mar.\n",
      " - Alucinar con el arte rupestre del Museo de Altamira.\n",
      " - Visitar la Cueva El Soplao\n",
      " - Hacer una ruta de senderismo hasta el nacimiento del Río Asón.\n",
      " - Rodearnos de árboles gigante en el Bosque de secuoyas delMonte Cabezón.\n",
      " - Hacer la ruta desde Reinosa hasta el Nacimiento Del Río Ebro.\n",
      "\n",
      "7. Castilla y León.:\n",
      " - Ver estrellas enBabiadeclarado parque estelar, en los alpes leoneses.\n",
      " - Volver a Puebla de Sanabria, nombrado uno de lospueblos más bonitos de Españay pasar unos días en elLago Sanabriael lago glaciar más grande de la península ibérica.\n",
      "\n",
      "8. Castilla-La Mancha.:\n",
      " - Volver a visitar (Después de 18 años) elparque nacional de las Lagunas de Ruideraen Ciudad Real.\n",
      " - Divertirnos haciendo EcoTurismo Activo en el Parque nacional de LasTablas de Daimiel.\n",
      " - Maravillarnos con las casas colgadas de Cuenca y aprender mucho sobre el sistema solar y los planetas en elPlanetario del Museo de las Ciencias de Castilla-La Mancha.\n",
      " - Pasar un día en Consuegra perdidos entreMolinos de Viento.\n",
      "\n",
      "9. Cataluña.:\n",
      " - Volver para conocer a fondo el Parque natural de la Zona Volcánica de la Garrocha.\n",
      " - Pasar un día enBesalú, que nos pilla de paso.\n",
      " - Ir saltando de cala en cala en laCosta Brava.\n",
      " - Ver flamencos en elDelta del Ebro.\n",
      "\n",
      "10. Comunidad Valenciana.:\n",
      " - Ir a lasfiestas de Moros y Cristianos de Alcoy.\n",
      " - Hacer una ruta hastaCova Talladaen Denia.\n",
      "\n",
      "11. Extremadura.:\n",
      " - Hacer unTour Gratuito por Cáceres(Free Walking Tour) o mejor aúneste tour teatralizadoacompañados por juglares medievales.\n",
      " - Visitar elMonumento Natural de los Barruecos, uno de los rincones más curiosos de la provincia de Cáceres.\n",
      " - Conocer Mérida.\n",
      "\n",
      "12. Galicia:\n",
      " - Subir aCoruñapara volver a abrazar a los nuestros y seguir descubriendoPlanes molones en Coruña con niños.\n",
      " - Hacer elcamino de Santiagoen familia.\n",
      " - Pasar unos días de Camping en lasIslas Cíes,donde se encuentra laplaya de Rodas,considerada por The Guardian una de las mejores playas del mundo.\n",
      "\n",
      "13. Madrid.:\n",
      " - Ver el atardecer desde elTemplo de Debod.\n",
      " - Pasar un día divertido en Warner Bross Park\n",
      " - Dar un paseo en barca en el parque El retiro.\n",
      " - Pasar un día en el Parque Europa, y hacernos una foto frente a los monumentos más característicos de Europa sin salir de España.\n",
      "\n",
      "14. La Rioja:\n",
      " - Visitar elcentro paleontológico de Enciso,un yacimiento arqueológico con huellas de dinosaurio.\n",
      " - Relajarnos en las pozas termales deArnedillo.\n",
      " - Adentrarnos en la naturaleza en elParque Natural Sierra de Cebollera.\n",
      "\n",
      "15. Región de Murcia.:\n",
      " - Hacer laRuta al salto del Usero\n",
      " - Visitar en el Teatro romano y el Museo Naval deCartagena.\n",
      " - Visitar elMar Menor,la laguna salada más grande de Europa.\n",
      "\n",
      "16. Navarra:\n",
      " - Adentrarnos en laSelva de Irati,en el centro del Pirineo oriental.\n",
      " - Visitarlas Bardenas Reales.\n",
      " - Hacer una ruta por lasierra de Urbasa yllegar hasta elNacedero del Urederra.\n",
      "\n",
      "17. País Vasco.:\n",
      " - Conocer elEl Bosque Pintado de Oma.\n",
      " - Hacer la Ruta deSan Juan de Gaztelugachey llegar hasta su famoso islote.\n"
     ]
    }
   ],
   "source": [
    "import requests\n",
    "from bs4 import BeautifulSoup\n",
    "\n",
    "url = 'https://www.mochiadictos.com/que-hacer-con-ninos-en-espana/'\n",
    "\n",
    "# Realizar la solicitud HTTP a la página\n",
    "response = requests.get(url)\n",
    "response.raise_for_status()  # Verificar que la solicitud fue exitosa\n",
    "\n",
    "# Analizar el contenido HTML de la página\n",
    "soup = BeautifulSoup(response.text, 'html.parser')\n",
    "\n",
    "# Encontrar todas las secciones de actividades por comunidad autónoma\n",
    "sections = soup.find_all('h3')\n",
    "\n",
    "# Diccionario para almacenar las actividades por comunidad\n",
    "actividades_por_comunidad = {}\n",
    "\n",
    "for section in sections:\n",
    "    comunidad = section.get_text(strip=True)\n",
    "    # Buscar la siguiente lista no ordenada (ul) después del encabezado\n",
    "    ul = section.find_next_sibling('ul')\n",
    "    if ul:\n",
    "        actividades = [li.get_text(strip=True) for li in ul.find_all('li')]\n",
    "        actividades_por_comunidad[comunidad] = actividades\n",
    "\n",
    "# Mostrar las actividades por comunidad\n",
    "for comunidad, actividades in actividades_por_comunidad.items():\n",
    "    print(f\"\\n{comunidad}:\")\n",
    "    for actividad in actividades:\n",
    "        print(f\" - {actividad}\")\n"
   ]
  }
 ],
 "metadata": {
  "kernelspec": {
   "display_name": ".venv",
   "language": "python",
   "name": "python3"
  },
  "language_info": {
   "codemirror_mode": {
    "name": "ipython",
    "version": 3
   },
   "file_extension": ".py",
   "mimetype": "text/x-python",
   "name": "python",
   "nbconvert_exporter": "python",
   "pygments_lexer": "ipython3",
   "version": "3.11.9"
  }
 },
 "nbformat": 4,
 "nbformat_minor": 5
}
