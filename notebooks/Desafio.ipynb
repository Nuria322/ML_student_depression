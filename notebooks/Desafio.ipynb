{
 "cells": [
  {
   "cell_type": "markdown",
   "id": "566cf118",
   "metadata": {},
   "source": [
    "## Datos desafio."
   ]
  },
  {
   "cell_type": "markdown",
   "id": "ecac61c0",
   "metadata": {},
   "source": [
    "#### Carga de datos ejemplo"
   ]
  },
  {
   "cell_type": "code",
   "execution_count": 1,
   "id": "eed957e8",
   "metadata": {},
   "outputs": [
    {
     "name": "stdout",
     "output_type": "stream",
     "text": [
      "<!DOCTYPE html>\n",
      "<html class=\"client-nojs vector-feature-language-in-header-enabled vector-feature-language-in-main-page-header-disabled vector-feature-page-tools-pinned-disabled vector-feature-toc-pinned-clientpref-1 vector-feature-main-menu-pinned-disabled vector-feature-limited-width-clientpref-1 vector-feature-limited-width-content-enabled vector-feature-custom-font-size-clientpref-1 vector-feature-appearance-pinned-clientpref-1 vector-feature-night-mode-enabled skin-theme-clientpref-day vector-sticky-header-enabled vector-toc-available\" lang=\"es\" dir=\"ltr\">\n",
      "<head>\n",
      "<meta charset=\"UTF-8\">\n",
      "<title>HTML - Wikipedia, la enciclopedia libre</title>\n",
      "<script>(function(){var className=\"client-js vector-feature-language-in-header-enabled vector-feature-language-in-main-page-header-disabled vector-feature-page-tools-pinned-disabled vector-feature-toc-pinned-clientpref-1 vector-feature-main-menu-pinned-disabled vector-feature-limited-width-clientpref-1 vector-feature-limited-width-content-enable\n"
     ]
    }
   ],
   "source": [
    "#Importamos la librería necesaria\n",
    "import requests\n",
    "\n",
    "un_sitio_web = \"https://es.wikipedia.org/wiki/HTML\"\n",
    "\n",
    "# esto descarga toda la información del sitio web\n",
    "# Es similar a lo que hace un navegador web antes de mostrar el contenido de forma amigable para un humano\n",
    "resultado = requests.get(un_sitio_web)\n",
    "\n",
    "# accedemos al código a través del atributo \"text\" del resultado\n",
    "codigo_html = resultado.text\n",
    "print(codigo_html[:1000]) # muestra los primeros 1000 caracteres de ese texto"
   ]
  },
  {
   "cell_type": "markdown",
   "id": "2cb11e86",
   "metadata": {},
   "source": [
    "#### Carga de datos definitiva"
   ]
  },
  {
   "cell_type": "code",
   "execution_count": null,
   "id": "3cc8f933",
   "metadata": {},
   "outputs": [],
   "source": []
  }
 ],
 "metadata": {
  "kernelspec": {
   "display_name": ".venv",
   "language": "python",
   "name": "python3"
  },
  "language_info": {
   "codemirror_mode": {
    "name": "ipython",
    "version": 3
   },
   "file_extension": ".py",
   "mimetype": "text/x-python",
   "name": "python",
   "nbconvert_exporter": "python",
   "pygments_lexer": "ipython3",
   "version": "3.11.9"
  }
 },
 "nbformat": 4,
 "nbformat_minor": 5
}
