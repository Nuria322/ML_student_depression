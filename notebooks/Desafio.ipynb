{
 "cells": [
  {
   "cell_type": "markdown",
   "id": "566cf118",
   "metadata": {},
   "source": [
    "## Datos desafio."
   ]
  },
  {
   "cell_type": "markdown",
   "id": "2cb11e86",
   "metadata": {},
   "source": [
    "#### Carga de datos "
   ]
  },
  {
   "cell_type": "code",
   "execution_count": null,
   "id": "3cc8f933",
   "metadata": {},
   "outputs": [
    {
     "name": "stdout",
     "output_type": "stream",
     "text": [
      "<!DOCTYPE html>\n",
      "<html class=\"avada-html-layout-wide avada-html-header-position-top avada-is-100-percent-template\" lang=\"es\" prefix=\"og: http://ogp.me/ns# fb: http://ogp.me/ns/fb#\">\n",
      "<head>\n",
      "\t<meta http-equiv=\"X-UA-Compatible\" content=\"IE=edge\" />\n",
      "\t<meta http-equiv=\"Content-Type\" content=\"text/html; charset=utf-8\"/>\n",
      "\t<meta name=\"viewport\" content=\"width=device-width, initial-scale=1\" />\n",
      "\t<meta name='robots' content='index, nofollow, max-image-preview:large, max-snippet:-1, max-video-preview:-1' />\n",
      "\t<style>img:is([sizes=\"auto\" i], [sizes^=\"auto,\" i]) { contain-intrinsic-size: 3000px 1500px }</style>\n",
      "\t\n",
      "\t<!-- This site is optimized with the Yoast SEO plugin v24.9 - https://yoast.com/wordpress/plugins/seo/ -->\n",
      "\t<title>Donde viajar con niños en España [100 Planes por Comunidades Autónomas]</title>\n",
      "\t<meta name=\"description\" content=\"Inspiración e ideas para unas vacaciones por España en familia: 100 cosas que ver y hacer con niños en España dividido por Comunidades Autonomas.\" />\n",
      "\t<link rel=\"ca\n"
     ]
    }
   ],
   "source": [
    "import requests\n",
    "\n",
    "sitio_web = \"https://www.mochiadictos.com/que-hacer-con-ninos-en-espana/\"\n",
    "\n",
    "# esto descarga toda la información del sitio web\n",
    "# Es similar a lo que hace un navegador web antes de mostrar el contenido de forma amigable para un humano\n",
    "resultado = requests.get(sitio_web)\n",
    "\n",
    "# accedemos al código a travs del atributo \"text\" del resultado\n",
    "codigo_html= resultado.text\n",
    "print(codigo_html[:1000]) # muestra los primero 100 caracteres"
   ]
  },
  {
   "cell_type": "code",
   "execution_count": 4,
   "id": "cd1f77c2",
   "metadata": {},
   "outputs": [
    {
     "data": {
      "text/plain": [
       "200"
      ]
     },
     "execution_count": 4,
     "metadata": {},
     "output_type": "execute_result"
    }
   ],
   "source": [
    "resp = requests.get(sitio_web)\n",
    "resp.status_code"
   ]
  },
  {
   "cell_type": "code",
   "execution_count": 5,
   "id": "230c5b0f",
   "metadata": {},
   "outputs": [
    {
     "data": {
      "text/plain": [
       "{'User-Agent': 'python-requests/2.32.3', 'Accept-Encoding': 'gzip, deflate', 'Accept': '*/*', 'Connection': 'keep-alive'}"
      ]
     },
     "execution_count": 5,
     "metadata": {},
     "output_type": "execute_result"
    }
   ],
   "source": [
    "resp.request.headers"
   ]
  },
  {
   "cell_type": "code",
   "execution_count": null,
   "id": "c43c4f66",
   "metadata": {},
   "outputs": [],
   "source": []
  },
  {
   "cell_type": "code",
   "execution_count": null,
   "id": "814c14b5",
   "metadata": {},
   "outputs": [],
   "source": []
  }
 ],
 "metadata": {
  "kernelspec": {
   "display_name": ".venv",
   "language": "python",
   "name": "python3"
  },
  "language_info": {
   "codemirror_mode": {
    "name": "ipython",
    "version": 3
   },
   "file_extension": ".py",
   "mimetype": "text/x-python",
   "name": "python",
   "nbconvert_exporter": "python",
   "pygments_lexer": "ipython3",
   "version": "3.11.9"
  }
 },
 "nbformat": 4,
 "nbformat_minor": 5
}
