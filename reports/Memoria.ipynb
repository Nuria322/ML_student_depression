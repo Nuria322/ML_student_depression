{
 "cells": [
  {
   "cell_type": "markdown",
   "metadata": {},
   "source": [
    "## Presentación\n",
    "Se complica la presentación con respecto a la de EDA ya que hay que contar algo mucho más técnico. Empieza como en el EDA, exponiendo el caso, y desarrolla la solución de ML para tus datos. Tendrás que responder en tu presentación a algunas preguntas clave:\n",
    "- ¿Qué problema o necesidad vamos a resolver? ¿Podemos solucionarlo con ML?\n",
    "- ¿Qué solución aporta tu modelo de ML?\n",
    "- ¿Qué modelos has probado? \n",
    "- ¿Qué resultados y conclusiones has obtenido? \n",
    "- ¿Cuáles han sido las variables de mayor impacto? \n",
    "- ¿Qué decisiones o acciones te permiten llevar a cabo tu modelo? ¿Qué consecuencias tiene en negocio?\n",
    "\n",
    "**¿Formatos de la presentación?** Nada de Notebooks, ni informes en pdf o HTML. Formato presentación en PowerPoint, Prezi o la plataforma que mejor conozcas, siendo perfectamente combinable con un dashboard desarrollado mediante alguna de las herramientas aprendidas.\n",
    "\n",
    "**Consejos**: Si usas un PowerPoint... será tu apoyo a la hora de presentar, aquí el protagonista es tu discurso. Por favor, que la presentación no sea un conjunto de puntos inconexos, intenta llevar un hilo, como si de una historia se tratase. Véndete, destaca las fortalezas de tu trabajo sobre las debilidades. Interactúa con el público. Si vas a contar algo de negocio, ¿puedes traducirlo a números? ¿Qué impacto tendrá tu analítica?. Muestra algunos datos concretos (estadísticos simples) para justificar tu business case o para cerrar tu presentación. Si has elegido una temática que está acorde con tus gustos/background, aprovecha al principio para contarlo y empatizar mucho más con el público. Si vas a hacer una demo, grábala por si te falla algo en la presentación (conexión a Internet). Prepárate las respuestas a algunas posibles preguntas en un anexo de la presentación.\n",
    "\n",
    "**NOTA**: existen muchas plantillas gratuitas en la web para hacer presentaciones. [Aquí tienes unas cuantas](https://www.free-powerpoint-templates-design.com/free-powerpoint-templates-design/).\n",
    "\n",
    "[Y en este enlace](https://slidesgo.com/es/)\n",
    "\n",
    "[Aquí también](https://www.slidescarnival.com/es)\n",
    "\n",
    "## Pasos del proyecto\n",
    "1. Consigue los datos\n",
    "1. Define tu problema de Machine Learning: clasifiación/regresión, supervisado/ no supervisado, series temporales, imágenes, texto...\n",
    "1. Exploratorio: obtén todos los estadísticos y gráficos que necesites para entender bien tu dataset.\n",
    "1. Limpia los datos: duplicados, missings, outliers, columnas inútiles...\n",
    "1. Feature engineering: transformación y creación de nuevas variables.\n",
    "1. Prueba varios modelos\n",
    "1. Analiza los resultados mediante una métrica adecuada a tu problemática.\n",
    "1. Interpreta los resultados y comprende los outputs del modelo.\n",
    "1. Siguientes pasos. ¿Se puede enriquecer el modelo con otras pruebas o con otros datos?\n",
    "1. Bonus track (opcional): monta un dashboard/informe donde se vea cómo aprende tu modelo, qué hiperparámetros usa y resultados obtenidos."
   ]
  }
 ],
 "metadata": {
  "language_info": {
   "name": "python"
  }
 },
 "nbformat": 4,
 "nbformat_minor": 2
}
